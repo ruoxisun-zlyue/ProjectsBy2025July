{
 "cells": [
  {
   "cell_type": "markdown",
   "id": "76184674",
   "metadata": {},
   "source": [
    "1. input: F(trace), ops(setting), Fneu(neuropil), icell(is cell?) -- all from the upstream suite2p processing?\n",
    "- yes, should all be found in the data folder\n",
    "2. F0 = (F0 - Fb) / np.maximum(10, F00.mean(axis=1)).reshape(-1,1) ? why doing this (instead of F0-Fneu --> preprocess --> deconv)\n",
    "- do not need this when using the new deconv\n",
    "3. why only use Fs when applying udcnv, instead of  \n",
    "- both ok"
   ]
  },
  {
   "cell_type": "markdown",
   "id": "1cbbdd1c",
   "metadata": {},
   "source": [
    "## Qingqing's Code"
   ]
  },
  {
   "cell_type": "code",
   "execution_count": null,
   "id": "54e6c759",
   "metadata": {},
   "outputs": [],
   "source": [
    "m = 3\n",
    "dat_TL = newstim.load_timeline(db[int(m)])\n",
    "db0 = db[int(m)]\n",
    "mname, datexp, blk = db0['mname'], db0['datexp'], db0['blk']\n",
    "root1 = os.path.join('Z:/data/PROC/', mname, datexp, blk)\n",
    "spks = []\n",
    "snrs = []\n",
    "ops = np.load(os.path.join(root1, 'suite2p', 'plane0', 'ops.npy'), allow_pickle=True).item()\n",
    "Fs=np.round(ops['fs'])\n",
    "V1 = [0,1,2,3]\n",
    "for n in V1:\n",
    "    ops = np.load(os.path.join(root1, 'suite2p', 'plane%d'%n, 'ops.npy'), allow_pickle=True).item()\n",
    "    F0 = np.load(os.path.join(root1, 'suite2p', 'plane%d'%n, 'F.npy'))\n",
    "    Fn = dcnv.preprocess(F0, ops['baseline'], 2 * ops['win_baseline'],\n",
    "                            ops['sig_baseline'], ops['fs'] , ops['prctile_baseline'])\n",
    "    F00 = F0 - Fn\n",
    "    Fneu0 = np.load(os.path.join(root1, 'suite2p', 'plane%d'%n, 'Fneu.npy'))\n",
    "    F0 = F0 - 1*Fneu0\n",
    "    icell = np.load(os.path.join(root1, 'suite2p', 'plane%d'%n, 'iscell.npy'))[:,0]\n",
    "    F0 = F0[icell>.5]\n",
    "    F00 = F00[icell>.5,:]\n",
    "    snr = 1  - .5 * np.var(np.diff(F0, axis=1), axis=1) / np.var(F0, axis=1)\n",
    "    Fn = dcnv.preprocess(F0, ops['baseline'], 2 * ops['win_baseline'],\n",
    "                ops['sig_baseline'], ops['fs'] , ops['prctile_baseline'])\n",
    "    Fb = F0 - Fn\n",
    "    F0 = (F0 - Fb) / np.maximum(10, F00.mean(axis=1)).reshape(-1,1)\n",
    "    # F0 = dcnv.oasis(F0, ops['batch_size'], ops['tau'], ops['fs'])\n",
    "    F0 = udcnv.apply(F0, Fs, 'F:/GitHub/Passive-Viewing/Analysis/from Marius/sim_right_flex.th', batch_size=1)\n",
    "    spks.append(F0)\n",
    "    snrs.append(snr)\n",
    "# spks = np.load('Z:/data/Share/Qingqing/FX15_2024_05_13_1_07_d9.npy')\n",
    "spks = np.concatenate(spks)\n",
    "snrs = np.concatenate(snrs)"
   ]
  },
  {
   "cell_type": "markdown",
   "id": "0c22de46",
   "metadata": {},
   "source": [
    "## Try 1 session"
   ]
  },
  {
   "cell_type": "code",
   "execution_count": 1,
   "id": "ffcdc87c",
   "metadata": {},
   "outputs": [],
   "source": [
    "import os\n",
    "import udcnv\n",
    "import numpy as np\n",
    "from suite2p.extraction import dcnv\n"
   ]
  },
  {
   "cell_type": "code",
   "execution_count": 2,
   "id": "08dd3d5a",
   "metadata": {},
   "outputs": [
    {
     "name": "stdout",
     "output_type": "stream",
     "text": [
      "0\n",
      "1\n"
     ]
    },
    {
     "ename": "KeyboardInterrupt",
     "evalue": "",
     "output_type": "error",
     "traceback": [
      "\u001b[0;31m---------------------------------------------------------------------------\u001b[0m",
      "\u001b[0;31mKeyboardInterrupt\u001b[0m                         Traceback (most recent call last)",
      "Cell \u001b[0;32mIn[2], line 8\u001b[0m\n\u001b[1;32m      6\u001b[0m \u001b[38;5;28;01mfor\u001b[39;00m n \u001b[38;5;129;01min\u001b[39;00m \u001b[38;5;28mrange\u001b[39m(\u001b[38;5;241m20\u001b[39m):\n\u001b[1;32m      7\u001b[0m     \u001b[38;5;28mprint\u001b[39m(n)\n\u001b[0;32m----> 8\u001b[0m     ops \u001b[38;5;241m=\u001b[39m \u001b[43mnp\u001b[49m\u001b[38;5;241;43m.\u001b[39;49m\u001b[43mload\u001b[49m\u001b[43m(\u001b[49m\u001b[43mos\u001b[49m\u001b[38;5;241;43m.\u001b[39;49m\u001b[43mpath\u001b[49m\u001b[38;5;241;43m.\u001b[39;49m\u001b[43mjoin\u001b[49m\u001b[43m(\u001b[49m\u001b[43mroot1\u001b[49m\u001b[43m,\u001b[49m\u001b[43m \u001b[49m\u001b[38;5;124;43m'\u001b[39;49m\u001b[38;5;124;43msuite2p\u001b[39;49m\u001b[38;5;124;43m'\u001b[39;49m\u001b[43m,\u001b[49m\u001b[43m \u001b[49m\u001b[38;5;124;43m'\u001b[39;49m\u001b[38;5;124;43mplane\u001b[39;49m\u001b[38;5;132;43;01m%d\u001b[39;49;00m\u001b[38;5;124;43m'\u001b[39;49m\u001b[38;5;241;43m%\u001b[39;49m\u001b[43mn\u001b[49m\u001b[43m,\u001b[49m\u001b[43m \u001b[49m\u001b[38;5;124;43m'\u001b[39;49m\u001b[38;5;124;43mops.npy\u001b[39;49m\u001b[38;5;124;43m'\u001b[39;49m\u001b[43m)\u001b[49m\u001b[43m,\u001b[49m\u001b[43m \u001b[49m\u001b[43mallow_pickle\u001b[49m\u001b[38;5;241;43m=\u001b[39;49m\u001b[38;5;28;43;01mTrue\u001b[39;49;00m\u001b[43m)\u001b[49m\u001b[38;5;241m.\u001b[39mitem()\n\u001b[1;32m      9\u001b[0m     fr_per_folder \u001b[38;5;241m=\u001b[39m ops[\u001b[38;5;124m'\u001b[39m\u001b[38;5;124mframes_per_folder\u001b[39m\u001b[38;5;124m'\u001b[39m]\n\u001b[1;32m     10\u001b[0m     F0 \u001b[38;5;241m=\u001b[39m np\u001b[38;5;241m.\u001b[39mload(os\u001b[38;5;241m.\u001b[39mpath\u001b[38;5;241m.\u001b[39mjoin(root1, \u001b[38;5;124m'\u001b[39m\u001b[38;5;124msuite2p\u001b[39m\u001b[38;5;124m'\u001b[39m, \u001b[38;5;124m'\u001b[39m\u001b[38;5;124mplane\u001b[39m\u001b[38;5;132;01m%d\u001b[39;00m\u001b[38;5;124m'\u001b[39m\u001b[38;5;241m%\u001b[39mn, \u001b[38;5;124m'\u001b[39m\u001b[38;5;124mF.npy\u001b[39m\u001b[38;5;124m'\u001b[39m))[:, :fr_per_folder[\u001b[38;5;241m0\u001b[39m]]\n",
      "File \u001b[0;32m~/miniconda3/envs/suite2p/lib/python3.9/site-packages/numpy/lib/_npyio_impl.py:484\u001b[0m, in \u001b[0;36mload\u001b[0;34m(file, mmap_mode, allow_pickle, fix_imports, encoding, max_header_size)\u001b[0m\n\u001b[1;32m    481\u001b[0m         \u001b[38;5;28;01mreturn\u001b[39;00m \u001b[38;5;28mformat\u001b[39m\u001b[38;5;241m.\u001b[39mopen_memmap(file, mode\u001b[38;5;241m=\u001b[39mmmap_mode,\n\u001b[1;32m    482\u001b[0m                                   max_header_size\u001b[38;5;241m=\u001b[39mmax_header_size)\n\u001b[1;32m    483\u001b[0m     \u001b[38;5;28;01melse\u001b[39;00m:\n\u001b[0;32m--> 484\u001b[0m         \u001b[38;5;28;01mreturn\u001b[39;00m \u001b[38;5;28;43mformat\u001b[39;49m\u001b[38;5;241;43m.\u001b[39;49m\u001b[43mread_array\u001b[49m\u001b[43m(\u001b[49m\u001b[43mfid\u001b[49m\u001b[43m,\u001b[49m\u001b[43m \u001b[49m\u001b[43mallow_pickle\u001b[49m\u001b[38;5;241;43m=\u001b[39;49m\u001b[43mallow_pickle\u001b[49m\u001b[43m,\u001b[49m\n\u001b[1;32m    485\u001b[0m \u001b[43m                                 \u001b[49m\u001b[43mpickle_kwargs\u001b[49m\u001b[38;5;241;43m=\u001b[39;49m\u001b[43mpickle_kwargs\u001b[49m\u001b[43m,\u001b[49m\n\u001b[1;32m    486\u001b[0m \u001b[43m                                 \u001b[49m\u001b[43mmax_header_size\u001b[49m\u001b[38;5;241;43m=\u001b[39;49m\u001b[43mmax_header_size\u001b[49m\u001b[43m)\u001b[49m\n\u001b[1;32m    487\u001b[0m \u001b[38;5;28;01melse\u001b[39;00m:\n\u001b[1;32m    488\u001b[0m     \u001b[38;5;66;03m# Try a pickle\u001b[39;00m\n\u001b[1;32m    489\u001b[0m     \u001b[38;5;28;01mif\u001b[39;00m \u001b[38;5;129;01mnot\u001b[39;00m allow_pickle:\n",
      "File \u001b[0;32m~/miniconda3/envs/suite2p/lib/python3.9/site-packages/numpy/lib/format.py:827\u001b[0m, in \u001b[0;36mread_array\u001b[0;34m(fp, allow_pickle, pickle_kwargs, max_header_size)\u001b[0m\n\u001b[1;32m    825\u001b[0m     pickle_kwargs \u001b[38;5;241m=\u001b[39m {}\n\u001b[1;32m    826\u001b[0m \u001b[38;5;28;01mtry\u001b[39;00m:\n\u001b[0;32m--> 827\u001b[0m     array \u001b[38;5;241m=\u001b[39m \u001b[43mpickle\u001b[49m\u001b[38;5;241;43m.\u001b[39;49m\u001b[43mload\u001b[49m\u001b[43m(\u001b[49m\u001b[43mfp\u001b[49m\u001b[43m,\u001b[49m\u001b[43m \u001b[49m\u001b[38;5;241;43m*\u001b[39;49m\u001b[38;5;241;43m*\u001b[39;49m\u001b[43mpickle_kwargs\u001b[49m\u001b[43m)\u001b[49m\n\u001b[1;32m    828\u001b[0m \u001b[38;5;28;01mexcept\u001b[39;00m \u001b[38;5;167;01mUnicodeError\u001b[39;00m \u001b[38;5;28;01mas\u001b[39;00m err:\n\u001b[1;32m    829\u001b[0m     \u001b[38;5;66;03m# Friendlier error message\u001b[39;00m\n\u001b[1;32m    830\u001b[0m     \u001b[38;5;28;01mraise\u001b[39;00m \u001b[38;5;167;01mUnicodeError\u001b[39;00m(\u001b[38;5;124m\"\u001b[39m\u001b[38;5;124mUnpickling a python object failed: \u001b[39m\u001b[38;5;132;01m%r\u001b[39;00m\u001b[38;5;130;01m\\n\u001b[39;00m\u001b[38;5;124m\"\u001b[39m\n\u001b[1;32m    831\u001b[0m                        \u001b[38;5;124m\"\u001b[39m\u001b[38;5;124mYou may need to pass the encoding= option \u001b[39m\u001b[38;5;124m\"\u001b[39m\n\u001b[1;32m    832\u001b[0m                        \u001b[38;5;124m\"\u001b[39m\u001b[38;5;124mto numpy.load\u001b[39m\u001b[38;5;124m\"\u001b[39m \u001b[38;5;241m%\u001b[39m (err,)) \u001b[38;5;28;01mfrom\u001b[39;00m\u001b[38;5;250m \u001b[39m\u001b[38;5;21;01merr\u001b[39;00m\n",
      "\u001b[0;31mKeyboardInterrupt\u001b[0m: "
     ]
    }
   ],
   "source": [
    "mname, datexp, blk = 'TX88', '2022_06_13', '2'\n",
    "root1 = os.path.join('/mnt/x', mname, datexp, blk)\n",
    "results = {'spks': [], 'snrs': []}\n",
    "ops = np.load(os.path.join(root1, 'suite2p', 'plane0', 'ops.npy'), allow_pickle=True).item()\n",
    "Fs=np.round(ops['fs'])\n",
    "for n in range(20):\n",
    "    print(n)\n",
    "    ops = np.load(os.path.join(root1, 'suite2p', 'plane%d'%n, 'ops.npy'), allow_pickle=True).item()\n",
    "    fr_per_folder = ops['frames_per_folder']\n",
    "    F0 = np.load(os.path.join(root1, 'suite2p', 'plane%d'%n, 'F.npy'))[:, :fr_per_folder[0]]\n",
    "    #Fn = dcnv.preprocess(F0, ops['baseline'], 2 * ops['win_baseline'],\n",
    "    #                        ops['sig_baseline'], ops['fs'] , ops['prctile_baseline'])\n",
    "    #F00 = F0 - Fn\n",
    "    Fneu0 = np.load(os.path.join(root1, 'suite2p', 'plane%d'%n, 'Fneu.npy'))[:, :fr_per_folder[0]]\n",
    "    F0 = F0 - 1*Fneu0\n",
    "    #icell = np.load(os.path.join(root1, 'suite2p', 'plane%d'%n, 'iscell.npy'))[:,0]\n",
    "    #F0 = F0[icell>.5]\n",
    "    #F00 = F00[icell>.5,:]\n",
    "    snr = 1  - .5 * np.var(np.diff(F0, axis=1), axis=1) / np.var(F0, axis=1)\n",
    "    Fn = dcnv.preprocess(F0, ops['baseline'], 2 * ops['win_baseline'],\n",
    "                ops['sig_baseline'], ops['fs'] , ops['prctile_baseline'])\n",
    "    #Fb = F0 - Fn\n",
    "    #F0 = (F0 - Fb) / np.maximum(10, F00.mean(axis=1)).reshape(-1,1)\n",
    "    #F0 = dcnv.oasis(F0, ops['batch_size'], ops['tau'], ops['fs'])\n",
    "    F0 = udcnv.apply(Fn, Fs, 'sim_right_flex.th', batch_size=1)\n",
    "    results['spks'].append(F0)\n",
    "    results['snrs'].append(snr)\n",
    "# spks = np.load('Z:/data/Share/Qingqing/FX15_2024_05_13_1_07_d9.npy')\n",
    "#np.save(f'/home/sunr/projects/MCLabRotation/data_newDeconv/spk/{mname}_{datexp}_{blk}_neural_data.npy', results)"
   ]
  },
  {
   "cell_type": "code",
   "execution_count": 3,
   "id": "9b79a3e6",
   "metadata": {},
   "outputs": [
    {
     "data": {
      "text/plain": [
       "(2129, 20539)"
      ]
     },
     "execution_count": 3,
     "metadata": {},
     "output_type": "execute_result"
    }
   ],
   "source": [
    "F0.shape"
   ]
  },
  {
   "cell_type": "code",
   "execution_count": 19,
   "id": "d1630934",
   "metadata": {},
   "outputs": [
    {
     "name": "stdout",
     "output_type": "stream",
     "text": [
      "Old deconv: Loaded TX119_2023_12_14_1 spks with shape (31672, 15432)\n",
      "New deconv: Loaded TX119_2023_12_14_1 spks with shape (31672, 15432)\n"
     ]
    }
   ],
   "source": [
    "test_spks1 = np.load(os.path.join('/home/sunr/projects/MCLabRotation/data_Zhong_et_al_2025/spk/TX119_2023_12_14_1_neural_data.npy'), allow_pickle=1).item()['spks']\n",
    "test_spks1 = np.vstack(test_spks1)  \n",
    "print(f'Old deconv: Loaded TX119_2023_12_14_1 spks with shape {test_spks1.shape}') # shape[0] should be (neurons, frame)\n",
    "test_spks2 = np.load(f'/home/sunr/projects/MCLabRotation/data_newDeconv/spk/{mname}_{datexp}_{blk}_neural_data.npy', allow_pickle=1).item()['spks']\n",
    "test_spks2 = np.vstack(test_spks2)  \n",
    "print(f'New deconv: Loaded TX119_2023_12_14_1 spks with shape {test_spks2.shape}') # shape[0] should be (neurons, frame)"
   ]
  },
  {
   "cell_type": "code",
   "execution_count": 22,
   "id": "4a015d03",
   "metadata": {},
   "outputs": [
    {
     "data": {
      "image/png": "[encoded data removed]",
      "text/plain": [
       "<Figure size 1000x600 with 1 Axes>"
      ]
     },
     "metadata": {},
     "output_type": "display_data"
    }
   ],
   "source": [
    "from numpy.linalg import norm\n",
    "import matplotlib.pyplot as plt\n",
    "\n",
    "def rowwise_cosine(A, B):\n",
    "    num = np.sum(A * B, axis=1)\n",
    "    denom = norm(A, axis=1) * norm(B, axis=1)\n",
    "    return num / denom\n",
    "def rowwise_pearsonr(A, B):\n",
    "    A_centered = A - np.mean(A, axis=1, keepdims=True)\n",
    "    B_centered = B - np.mean(B, axis=1, keepdims=True)\n",
    "    num = np.sum(A_centered * B_centered, axis=1)\n",
    "    denom = norm(A_centered, axis=1) * norm(B_centered, axis=1)\n",
    "    return num / denom\n",
    "\n",
    "similarities = rowwise_pearsonr(test_spks1, test_spks2)  # shape (30000,)\n",
    "plt.figure(figsize=(10, 6))\n",
    "plt.hist(similarities, bins=1000)\n",
    "plt.xlabel('Pearson Correlation')\n",
    "plt.ylabel('Frequency')\n",
    "plt.title('Distribution of Old and New Deconvolution Methods Similarity')\n",
    "plt.show()\n"
   ]
  },
  {
   "cell_type": "code",
   "execution_count": null,
   "id": "676caa9a",
   "metadata": {},
   "outputs": [],
   "source": [
    "del test_spks1, test_spks2, similarities"
   ]
  },
  {
   "cell_type": "markdown",
   "id": "5bb21b47",
   "metadata": {},
   "source": [
    "## Multi Animals"
   ]
  },
  {
   "cell_type": "code",
   "execution_count": 29,
   "id": "5f965410",
   "metadata": {},
   "outputs": [],
   "source": [
    "unsup_animals_info = {\n",
    "    'TX119': [['2023_12_14', '1'], ['2023_12_23', '1'], ['2023_12_24', '1']],\n",
    "    'TX83': [['2022_08_17', '1'], ['2022_08_29', '1'], ['2022_08_31', '1']],\n",
    "    'TX88': [['2022_06_13', '2'], ['2022_06_17', '2'], ['2022_06_20', '1']],\n",
    "    'TX105': [['2022_10_08', '2'], ['2022_10_19', '2'], ['2022_10_21', '1']],\n",
    "    'TX123': [['2023_12_21', '1'], ['2024_01_02', '1'], ['2024_01_03', '1']],\n",
    "    'DR15': [['2022_10_09', '1'], ['2022_10_19', '1'], ['2022_10_20', '1']],\n",
    "    'DR10': [['2022_07_12', '1'], ['2022_07_19', '1'], ['2022_07_21', '1']]\n",
    "}\n",
    "\n",
    "sup_animals_info ={\n",
    "    'TX109':[['2023_03_27', '1'], ['2023_04_07', '1'], ['2023_04_18', '1']],\n",
    "    'TX108':[['2023_03_13', '1'], ['2023_03_22', '1'], ['2023_03_25', '1']],\n",
    "    'TX60':[['2021_04_10', '1'], ['2021_05_04', '1'], ['2021_06_07', '1']],\n",
    "    'VR2':[['2021_03_20', '1'], ['2021_04_06', '1'], ['2021_04_11', '1']]\n",
    "}\n"
   ]
  },
  {
   "cell_type": "code",
   "execution_count": 2,
   "id": "2ca4ed8b",
   "metadata": {},
   "outputs": [],
   "source": [
    "unsup_animals_info = {\n",
    "    'TX88': [['2022_06_13', '2']]\n",
    "}"
   ]
  },
  {
   "cell_type": "code",
   "execution_count": 3,
   "id": "3f9eaab5",
   "metadata": {},
   "outputs": [],
   "source": [
    "def new_deconv (animals_info):\n",
    "    for mname, sessions in animals_info.items():\n",
    "        for datexp, blk in sessions:\n",
    "            root1 = os.path.join('/mnt/z', mname, datexp, blk) if os.path.exists(os.path.join('/mnt/z', mname, datexp, blk)) else os.path.join('/mnt/x', mname, datexp, blk) \n",
    "            print(root1)\n",
    "            results = {'spks': [], 'snrs': []}\n",
    "            ops = np.load(os.path.join(root1, 'suite2p', 'plane0', 'ops.npy'), allow_pickle=True).item()\n",
    "            Fs=np.round(ops['fs'])\n",
    "            for n in range(20):\n",
    "                print(n) if n % 5 == 0 else None\n",
    "                ops = np.load(os.path.join(root1, 'suite2p', 'plane%d'%n, 'ops.npy'), allow_pickle=True).item()\n",
    "                fr_per_folder = ops['frames_per_folder']\n",
    "                F0 = np.load(os.path.join(root1, 'suite2p', 'plane%d'%n, 'F.npy'))[:, :fr_per_folder[0]]\n",
    "                #Fn = dcnv.preprocess(F0, ops['baseline'], 2 * ops['win_baseline'],\n",
    "                #                        ops['sig_baseline'], ops['fs'] , ops['prctile_baseline'])\n",
    "                #F00 = F0 - Fn\n",
    "                Fneu0 = np.load(os.path.join(root1, 'suite2p', 'plane%d'%n, 'Fneu.npy'))[:, :fr_per_folder[0]]\n",
    "                F0 = F0 - 1*Fneu0\n",
    "                #icell = np.load(os.path.join(root1, 'suite2p', 'plane%d'%n, 'iscell.npy'))[:,0]\n",
    "                #F0 = F0[icell>.5]\n",
    "                #F00 = F00[icell>.5,:]\n",
    "                snr = 1  - .5 * np.var(np.diff(F0, axis=1), axis=1) / np.var(F0, axis=1)\n",
    "                Fn = dcnv.preprocess(F0, ops['baseline'], 2 * ops['win_baseline'],\n",
    "                            ops['sig_baseline'], ops['fs'] , ops['prctile_baseline'])\n",
    "                #Fb = F0 - Fn\n",
    "                #F0 = (F0 - Fb) / np.maximum(10, F00.mean(axis=1)).reshape(-1,1)\n",
    "                #F0 = dcnv.oasis(F0, ops['batch_size'], ops['tau'], ops['fs'])\n",
    "                F0 = udcnv.apply(Fn, Fs, 'sim_right_flex.th', batch_size=1)\n",
    "                results['spks'].append(F0)\n",
    "                results['snrs'].append(snr)\n",
    "            # spks = np.load('Z:/data/Share/Qingqing/FX15_2024_05_13_1_07_d9.npy')\n",
    "            np.save(f'/mnt/d/Users/sunr/Janelia_Project/MCLabRotation/data_newDeconv/spk/{mname}_{datexp}_{blk}_neural_data.npy', results)"
   ]
  },
  {
   "cell_type": "code",
   "execution_count": 4,
   "id": "b929aace",
   "metadata": {},
   "outputs": [
    {
     "name": "stdout",
     "output_type": "stream",
     "text": [
      "/mnt/x/TX88/2022_06_13/2\n",
      "0\n",
      "5\n",
      "10\n",
      "15\n"
     ]
    }
   ],
   "source": [
    "new_deconv(unsup_animals_info)\n",
    "#new_deconv(sup_animals_info)"
   ]
  }
 ],
 "metadata": {
  "kernelspec": {
   "display_name": "suite2p",
   "language": "python",
   "name": "python3"
  },
  "language_info": {
   "codemirror_mode": {
    "name": "ipython",
    "version": 3
   },
   "file_extension": ".py",
   "mimetype": "text/x-python",
   "name": "python",
   "nbconvert_exporter": "python",
   "pygments_lexer": "ipython3",
   "version": "3.9.23"
  }
 },
 "nbformat": 4,
 "nbformat_minor": 5
}
